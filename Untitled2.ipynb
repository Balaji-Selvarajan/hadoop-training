{
 "cells": [
  {
   "cell_type": "code",
   "execution_count": 14,
   "metadata": {
    "collapsed": true
   },
   "outputs": [],
   "source": [
    "import xml.etree.ElementTree as ET\n",
    "import Queue"
   ]
  },
  {
   "cell_type": "code",
   "execution_count": 2,
   "metadata": {
    "collapsed": true
   },
   "outputs": [],
   "source": [
    "fileRead = ET.parse(\"sample.xml\")\n",
    "root = fileRead.getroot()"
   ]
  },
  {
   "cell_type": "code",
   "execution_count": 74,
   "metadata": {
    "collapsed": false
   },
   "outputs": [],
   "source": [
    "journals = list(root.getiterator('{http://www.crossref.org/xschema/1.0}journal'))\n",
    "#'{http://www.crossref.org/xschema/1.0}journal_issue'\n",
    "#'{http://www.crossref.org/xschema/1.0}journal_volume'"
   ]
  },
  {
   "cell_type": "code",
   "execution_count": 60,
   "metadata": {
    "collapsed": false
   },
   "outputs": [
    {
     "data": {
      "text/plain": [
       "[<Element '{http://www.crossref.org/xschema/1.0}volume' at 0x49851d0>]"
      ]
     },
     "execution_count": 60,
     "metadata": {},
     "output_type": "execute_result"
    }
   ],
   "source": [
    "list(journals[0][1][0])"
   ]
  },
  {
   "cell_type": "code",
   "execution_count": 48,
   "metadata": {
    "collapsed": false
   },
   "outputs": [
    {
     "data": {
      "text/plain": [
       "[<Element '{http://www.crossref.org/xschema/1.0}journal_metadata' at 0x49855f0>,\n",
       " <Element '{http://www.crossref.org/xschema/1.0}journal_issue' at 0x49856b0>,\n",
       " <Element '{http://www.crossref.org/xschema/1.0}journal_article' at 0x4985730>]"
      ]
     },
     "execution_count": 48,
     "metadata": {},
     "output_type": "execute_result"
    }
   ],
   "source": [
    "list(journals[1])"
   ]
  },
  {
   "cell_type": "code",
   "execution_count": 64,
   "metadata": {
    "collapsed": false
   },
   "outputs": [
    {
     "name": "stdout",
     "output_type": "stream",
     "text": [
      "{http://www.crossref.org/xschema/1.0}full_title \t\tSample Tile\n",
      "{http://www.crossref.org/xschema/1.0}issn \t\t1234567A\n",
      "{http://www.crossref.org/xschema/1.0}volume \t\t91\n",
      "{http://www.crossref.org/xschema/1.0}issue \t\t1\n",
      "{http://www.crossref.org/xschema/1.0}title \t\tThis is sample title one\n",
      "{http://www.crossref.org/xschema/1.0}year \t\t1998\n",
      "{http://www.crossref.org/xschema/1.0}day \t\t1\n",
      "{http://www.crossref.org/xschema/1.0}month \t\t1\n",
      "{http://www.crossref.org/xschema/1.0}last_page \t\t45\n",
      "{http://www.crossref.org/xschema/1.0}first_page \t\t45\n",
      "{http://www.crossref.org/xschema/1.0}resource \t\thttp://www.google.com\n",
      "{http://www.crossref.org/xschema/1.0}timestamp \t\t200303171504\n",
      "{http://www.crossref.org/xschema/1.0}doi \t\t12.3456/asdfghjk.78.9.10\n",
      "{http://www.crossref.org/xschema/1.0}full_title \t\tSample Tile\n",
      "{http://www.crossref.org/xschema/1.0}issn \t\t1234567A\n",
      "{http://www.crossref.org/xschema/1.0}volume \t\t91\n",
      "{http://www.crossref.org/xschema/1.0}issue \t\t1\n",
      "{http://www.crossref.org/xschema/1.0}title \t\tThis is sample title two\n",
      "{http://www.crossref.org/xschema/1.0}year \t\t1998\n",
      "{http://www.crossref.org/xschema/1.0}day \t\t1\n",
      "{http://www.crossref.org/xschema/1.0}month \t\t1\n",
      "{http://www.crossref.org/xschema/1.0}last_page \t\t24\n",
      "{http://www.crossref.org/xschema/1.0}first_page \t\t23\n",
      "{http://www.crossref.org/xschema/1.0}resource \t\thttp://www.facebook.com\n",
      "{http://www.crossref.org/xschema/1.0}timestamp \t\t200303171504\n",
      "{http://www.crossref.org/xschema/1.0}doi \t\t12.3456/asdfghjk.78.9.11\n"
     ]
    }
   ],
   "source": [
    "journal_dict = {}\n",
    "for journal in journals:\n",
    "    \n",
    "    #print journal,'\\n\\n'\n",
    "    for data in list(journal):\n",
    "        #print data,'\\n'\n",
    "        for values in list(data):\n",
    "            #print values\n",
    "            if list(values):\n",
    "                x = list(values)\n",
    "                while x:\n",
    "                    tmp = x.pop()\n",
    "                    print tmp.tag,'\\t\\t',tmp.text\n",
    "            else:\n",
    "                print values.tag,'\\t\\t',values.text"
   ]
  },
  {
   "cell_type": "code",
   "execution_count": 39,
   "metadata": {
    "collapsed": false
   },
   "outputs": [
    {
     "data": {
      "text/plain": [
       "{'1234567A': ['Sample Tile', '1234567A', None, '1', None, None, None, None]}"
      ]
     },
     "execution_count": 39,
     "metadata": {},
     "output_type": "execute_result"
    }
   ],
   "source": [
    "journal_dict"
   ]
  },
  {
   "cell_type": "code",
   "execution_count": 22,
   "metadata": {
    "collapsed": false
   },
   "outputs": [],
   "source": [
    "first_journal  = journal[0].getiterator('{http://www.crossref.org/xschema/1.0}journal_metadata')[0]\n",
    "'{http://www.crossref.org/xschema/1.0}journal_issue'\n",
    "'{http://www.crossref.org/xschema/1.0}journal_volume'"
   ]
  },
  {
   "cell_type": "code",
   "execution_count": null,
   "metadata": {
    "collapsed": true
   },
   "outputs": [],
   "source": []
  },
  {
   "cell_type": "code",
   "execution_count": 26,
   "metadata": {
    "collapsed": false
   },
   "outputs": [
    {
     "name": "stdout",
     "output_type": "stream",
     "text": [
      "Sample Tile\n",
      "1234567A\n"
     ]
    }
   ],
   "source": [
    "for i in list(first_journal):\n",
    "    print i.text"
   ]
  },
  {
   "cell_type": "code",
   "execution_count": 18,
   "metadata": {
    "collapsed": false
   },
   "outputs": [
    {
     "data": {
      "text/plain": [
       "[<Element '{http://www.openarchives.org/OAI/2.0/}OAI-PMH' at 0x494fd90>,\n",
       " <Element '{http://www.openarchives.org/OAI/2.0/}responseDate' at 0x494fdb0>,\n",
       " <Element '{http://www.openarchives.org/OAI/2.0/}request' at 0x494fe30>,\n",
       " <Element '{http://www.openarchives.org/OAI/2.0/}ListRecords' at 0x494fdf0>,\n",
       " <Element '{http://www.openarchives.org/OAI/2.0/}record' at 0x494feb0>,\n",
       " <Element '{http://www.openarchives.org/OAI/2.0/}header' at 0x494fed0>,\n",
       " <Element '{http://www.openarchives.org/OAI/2.0/}identifier' at 0x494ff30>,\n",
       " <Element '{http://www.openarchives.org/OAI/2.0/}datestamp' at 0x494ff70>,\n",
       " <Element '{http://www.openarchives.org/OAI/2.0/}setSpec' at 0x494ffb0>,\n",
       " <Element '{http://www.openarchives.org/OAI/2.0/}setSpec' at 0x494ffd0>,\n",
       " <Element '{http://www.openarchives.org/OAI/2.0/}setSpec' at 0x4985030>,\n",
       " <Element '{http://www.openarchives.org/OAI/2.0/}metadata' at 0x4985050>,\n",
       " <Element '{http://www.crossref.org/xschema/1.0}crossref' at 0x4985070>,\n",
       " <Element '{http://www.crossref.org/xschema/1.0}journal' at 0x4985090>,\n",
       " <Element '{http://www.crossref.org/xschema/1.0}journal_metadata' at 0x49850b0>,\n",
       " <Element '{http://www.crossref.org/xschema/1.0}full_title' at 0x49850d0>,\n",
       " <Element '{http://www.crossref.org/xschema/1.0}issn' at 0x4985110>,\n",
       " <Element '{http://www.crossref.org/xschema/1.0}journal_issue' at 0x4985190>,\n",
       " <Element '{http://www.crossref.org/xschema/1.0}journal_volume' at 0x49851b0>,\n",
       " <Element '{http://www.crossref.org/xschema/1.0}volume' at 0x49851d0>,\n",
       " <Element '{http://www.crossref.org/xschema/1.0}issue' at 0x49851f0>,\n",
       " <Element '{http://www.crossref.org/xschema/1.0}journal_article' at 0x4985210>,\n",
       " <Element '{http://www.crossref.org/xschema/1.0}titles' at 0x4985250>,\n",
       " <Element '{http://www.crossref.org/xschema/1.0}title' at 0x4985270>,\n",
       " <Element '{http://www.crossref.org/xschema/1.0}publication_date' at 0x4985290>,\n",
       " <Element '{http://www.crossref.org/xschema/1.0}month' at 0x49852d0>,\n",
       " <Element '{http://www.crossref.org/xschema/1.0}day' at 0x49852f0>,\n",
       " <Element '{http://www.crossref.org/xschema/1.0}year' at 0x4985310>,\n",
       " <Element '{http://www.crossref.org/xschema/1.0}pages' at 0x4985350>,\n",
       " <Element '{http://www.crossref.org/xschema/1.0}first_page' at 0x4985370>,\n",
       " <Element '{http://www.crossref.org/xschema/1.0}last_page' at 0x4985390>,\n",
       " <Element '{http://www.crossref.org/xschema/1.0}doi_data' at 0x49853b0>,\n",
       " <Element '{http://www.crossref.org/xschema/1.0}doi' at 0x49853d0>,\n",
       " <Element '{http://www.crossref.org/xschema/1.0}timestamp' at 0x49853f0>,\n",
       " <Element '{http://www.crossref.org/xschema/1.0}resource' at 0x4985410>,\n",
       " <Element '{http://www.openarchives.org/OAI/2.0/}record' at 0x4985430>,\n",
       " <Element '{http://www.openarchives.org/OAI/2.0/}header' at 0x4985450>,\n",
       " <Element '{http://www.openarchives.org/OAI/2.0/}identifier' at 0x4985490>,\n",
       " <Element '{http://www.openarchives.org/OAI/2.0/}datestamp' at 0x49854d0>,\n",
       " <Element '{http://www.openarchives.org/OAI/2.0/}setSpec' at 0x4985510>,\n",
       " <Element '{http://www.openarchives.org/OAI/2.0/}setSpec' at 0x4985530>,\n",
       " <Element '{http://www.openarchives.org/OAI/2.0/}setSpec' at 0x4985570>,\n",
       " <Element '{http://www.openarchives.org/OAI/2.0/}metadata' at 0x4985590>,\n",
       " <Element '{http://www.crossref.org/xschema/1.0}crossref' at 0x49855b0>,\n",
       " <Element '{http://www.crossref.org/xschema/1.0}journal' at 0x49855d0>,\n",
       " <Element '{http://www.crossref.org/xschema/1.0}journal_metadata' at 0x49855f0>,\n",
       " <Element '{http://www.crossref.org/xschema/1.0}full_title' at 0x4985610>,\n",
       " <Element '{http://www.crossref.org/xschema/1.0}issn' at 0x4985650>,\n",
       " <Element '{http://www.crossref.org/xschema/1.0}journal_issue' at 0x49856b0>,\n",
       " <Element '{http://www.crossref.org/xschema/1.0}journal_volume' at 0x49856d0>,\n",
       " <Element '{http://www.crossref.org/xschema/1.0}volume' at 0x49856f0>,\n",
       " <Element '{http://www.crossref.org/xschema/1.0}issue' at 0x4985710>,\n",
       " <Element '{http://www.crossref.org/xschema/1.0}journal_article' at 0x4985730>,\n",
       " <Element '{http://www.crossref.org/xschema/1.0}titles' at 0x4985770>,\n",
       " <Element '{http://www.crossref.org/xschema/1.0}title' at 0x4985790>,\n",
       " <Element '{http://www.crossref.org/xschema/1.0}publication_date' at 0x49857b0>,\n",
       " <Element '{http://www.crossref.org/xschema/1.0}month' at 0x49857f0>,\n",
       " <Element '{http://www.crossref.org/xschema/1.0}day' at 0x49343f0>,\n",
       " <Element '{http://www.crossref.org/xschema/1.0}year' at 0x4934230>,\n",
       " <Element '{http://www.crossref.org/xschema/1.0}pages' at 0x4985830>,\n",
       " <Element '{http://www.crossref.org/xschema/1.0}first_page' at 0x4985850>,\n",
       " <Element '{http://www.crossref.org/xschema/1.0}last_page' at 0x4985870>,\n",
       " <Element '{http://www.crossref.org/xschema/1.0}doi_data' at 0x4985890>,\n",
       " <Element '{http://www.crossref.org/xschema/1.0}doi' at 0x49858b0>,\n",
       " <Element '{http://www.crossref.org/xschema/1.0}timestamp' at 0x49858d0>,\n",
       " <Element '{http://www.crossref.org/xschema/1.0}resource' at 0x49858f0>]"
      ]
     },
     "execution_count": 18,
     "metadata": {},
     "output_type": "execute_result"
    }
   ],
   "source": [
    "list(root.iter())"
   ]
  },
  {
   "cell_type": "code",
   "execution_count": 66,
   "metadata": {
    "collapsed": false
   },
   "outputs": [],
   "source": [
    "tags = ['{http://www.crossref.org/xschema/1.0}full_title',\n",
    "        '{http://www.crossref.org/xschema/1.0}issn',\n",
    "        '{http://www.crossref.org/xschema/1.0}volume',\n",
    "        '{http://www.crossref.org/xschema/1.0}issue',\n",
    "        '{http://www.crossref.org/xschema/1.0}title',\n",
    "        '{http://www.crossref.org/xschema/1.0}month',\n",
    "        '{http://www.crossref.org/xschema/1.0}day',\n",
    "        '{http://www.crossref.org/xschema/1.0}year',\n",
    "        '{http://www.crossref.org/xschema/1.0}first_page',\n",
    "        '{http://www.crossref.org/xschema/1.0}last_page',\n",
    "        '{http://www.crossref.org/xschema/1.0}doi',\n",
    "        '{http://www.crossref.org/xschema/1.0}timestamp']"
   ]
  },
  {
   "cell_type": "code",
   "execution_count": 86,
   "metadata": {
    "collapsed": false
   },
   "outputs": [],
   "source": [
    "journals = list(root.getiterator('{http://www.crossref.org/xschema/1.0}journal'))\n",
    "journal_dict = {}\n",
    "issn_dict = {}\n",
    "while journals:\n",
    "    journal =  journals.pop()\n",
    "    tmp_list = []\n",
    "    issn = journal.getiterator(tags[1])[0].text\n",
    "    volume = journal.getiterator(tags[2])[0].text\n",
    "    issue = journal.getiterator(tags[3])[0].text\n",
    "    if len(issn)!=9:\n",
    "        issn = issn[:4]+\"-\"+issn[4:]\n",
    "    key = issn + \"-\"+volume+\"-\"+issue\n",
    "    if key not in journal_dict:\n",
    "        for tag in tags:\n",
    "            tmp_list.append(journal.getiterator(tag)[0].text)\n",
    "        journal_dict[key] = tmp_list\n",
    "    if issn not in issn_dict:\n",
    "        issn_dict[issn] = journal.getiterator(tags[0])[0].text"
   ]
  },
  {
   "cell_type": "code",
   "execution_count": 87,
   "metadata": {
    "collapsed": false
   },
   "outputs": [
    {
     "data": {
      "text/plain": [
       "{'1234-567A-91-1': ['Sample Tile',\n",
       "  '1234567A',\n",
       "  '91',\n",
       "  '1',\n",
       "  'This is sample title two',\n",
       "  '1',\n",
       "  '1',\n",
       "  '1998',\n",
       "  '23',\n",
       "  '24',\n",
       "  '12.3456/asdfghjk.78.9.11',\n",
       "  '200303171504']}"
      ]
     },
     "execution_count": 87,
     "metadata": {},
     "output_type": "execute_result"
    }
   ],
   "source": [
    "journal_dict"
   ]
  },
  {
   "cell_type": "code",
   "execution_count": 88,
   "metadata": {
    "collapsed": false
   },
   "outputs": [
    {
     "data": {
      "text/plain": [
       "{'1234-567A': 'Sample Tile'}"
      ]
     },
     "execution_count": 88,
     "metadata": {},
     "output_type": "execute_result"
    }
   ],
   "source": [
    "issn_dict"
   ]
  },
  {
   "cell_type": "code",
   "execution_count": null,
   "metadata": {
    "collapsed": true
   },
   "outputs": [],
   "source": []
  }
 ],
 "metadata": {
  "kernelspec": {
   "display_name": "Python 2",
   "language": "python",
   "name": "python2"
  },
  "language_info": {
   "codemirror_mode": {
    "name": "ipython",
    "version": 2
   },
   "file_extension": ".py",
   "mimetype": "text/x-python",
   "name": "python",
   "nbconvert_exporter": "python",
   "pygments_lexer": "ipython2",
   "version": "2.7.13"
  }
 },
 "nbformat": 4,
 "nbformat_minor": 2
}
